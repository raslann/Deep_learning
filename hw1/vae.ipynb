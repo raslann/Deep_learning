{
 "cells": [
  {
   "cell_type": "code",
   "execution_count": 1,
   "metadata": {
    "collapsed": false
   },
   "outputs": [
    {
     "name": "stdout",
     "output_type": "stream",
     "text": [
      "Files already downloaded\n",
      "3000\n",
      "750\n"
     ]
    }
   ],
   "source": [
    "from __future__ import print_function\n",
    "import pickle \n",
    "import numpy as np\n",
    "import torch\n",
    "import torch.nn as nn\n",
    "import torch.nn.functional as F\n",
    "import torch.optim as optim\n",
    "from torchvision import datasets, transforms\n",
    "from torch.autograd import Variable\n",
    "from sub import subMNIST\n",
    "import matplotlib.pyplot as plt\n",
    "import numpy as np\n",
    "%matplotlib inline"
   ]
  },
  {
   "cell_type": "code",
   "execution_count": 2,
   "metadata": {
    "collapsed": false
   },
   "outputs": [],
   "source": [
    "#Set labels to zeros as a dummy values to make the train_loader work \n",
    "\n",
    "trainset_unlabeled = pickle.load(open(\"train_unlabeled.p\", \"rb\")) \n",
    "trainset_unlabeled.train_labels = torch.zeros(trainset_unlabeled.train_data.size(0))\n",
    "train_loader  = torch.utils.data.DataLoader(trainset_unlabeled, batch_size=64, shuffle=True, num_workers=2)\n",
    "\n",
    "validset = pickle.load(open(\"validation.p\", \"rb\"))\n",
    "valid_loader = torch.utils.data.DataLoader(validset, batch_size=64, shuffle=True, num_workers=2)"
   ]
  },
  {
   "cell_type": "code",
   "execution_count": 3,
   "metadata": {
    "collapsed": false
   },
   "outputs": [
    {
     "name": "stdout",
     "output_type": "stream",
     "text": [
      "VAE (\n",
      "  (fc1): Linear (784 -> 400)\n",
      "  (fc21): Linear (400 -> 20)\n",
      "  (fc22): Linear (400 -> 20)\n",
      "  (fc3): Linear (20 -> 400)\n",
      "  (fc4): Linear (400 -> 784)\n",
      "  (relu): ReLU ()\n",
      "  (sigmoid): Sigmoid ()\n",
      ")\n",
      "Models has 10 learnable paramater:\n",
      "parameter 1 has a size of torch.Size([400, 784])\n",
      "parameter 2 has a size of torch.Size([400])\n",
      "parameter 3 has a size of torch.Size([20, 400])\n",
      "parameter 4 has a size of torch.Size([20])\n",
      "parameter 5 has a size of torch.Size([20, 400])\n",
      "parameter 6 has a size of torch.Size([20])\n",
      "parameter 7 has a size of torch.Size([400, 20])\n",
      "parameter 8 has a size of torch.Size([400])\n",
      "parameter 9 has a size of torch.Size([784, 400])\n",
      "parameter 10 has a size of torch.Size([784])\n"
     ]
    },
    {
     "data": {
      "text/plain": [
       "[None, None, None, None, None, None, None, None, None, None]"
      ]
     },
     "execution_count": 3,
     "metadata": {},
     "output_type": "execute_result"
    }
   ],
   "source": [
    "class VAE(nn.Module):\n",
    "    def __init__(self):\n",
    "        super(VAE, self).__init__()\n",
    "\n",
    "        self.fc1 = nn.Linear(784, 400)\n",
    "        self.fc21 = nn.Linear(400, 20)\n",
    "        self.fc22 = nn.Linear(400, 20)\n",
    "        self.fc3 = nn.Linear(20, 400)\n",
    "        self.fc4 = nn.Linear(400, 784)\n",
    "\n",
    "        self.relu = nn.ReLU()\n",
    "        self.sigmoid = nn.Sigmoid()\n",
    "\n",
    "    # q(z|x) -> Bayesian Perspective\n",
    "    def encode(self, x):\n",
    "        h1 = self.relu(self.fc1(x))\n",
    "        return self.fc21(h1), self.fc22(h1)\n",
    "\n",
    "    # reparameterization trick to make the sample subject to random noise \n",
    "    def reparametrize(self, mu, logvar):\n",
    "        std = logvar.mul(0.5).exp_()\n",
    "        eps = torch.FloatTensor(std.size()).normal_()\n",
    "        eps = Variable(eps)\n",
    "        return eps.mul(std).add_(mu)\n",
    "\n",
    "    # p(x|z) -> Generative Perspective\n",
    "    def decode(self, z):\n",
    "        h3 = self.relu(self.fc3(z))\n",
    "        return self.sigmoid(self.fc4(h3))\n",
    "\n",
    "    def forward(self, x):\n",
    "        mu, logvar = self.encode(x.view(-1, 784))\n",
    "        z = self.reparametrize(mu, logvar)\n",
    "        return self.decode(z), mu, logvar\n",
    "\n",
    "\n",
    "model = VAE()\n",
    "params = list(model.parameters())\n",
    "\n",
    "print(model)\n",
    "print('Models has {} learnable paramater:'.format(len(params)))\n",
    "[print('parameter {} has a size of {}'.format(i+1, params[i].size())) for i in range(len(params))]"
   ]
  },
  {
   "cell_type": "code",
   "execution_count": 4,
   "metadata": {
    "collapsed": true
   },
   "outputs": [],
   "source": [
    "reconstruction_function = nn.BCELoss()\n",
    "reconstruction_function.size_average = False\n",
    "\n",
    "def loss_function(recon_x, x, mu, logvar): \n",
    "    \"\"\"(Gaussian) Kullback-Leibler divergence KL(q||p), per training example\"\"\"\n",
    "    \n",
    "    BCE = reconstruction_function(recon_x, x)\n",
    "    KLD_element = mu.pow(2).add_(logvar.exp()).mul_(-1).add_(1).add_(logvar)\n",
    "    KLD = torch.sum(KLD_element).mul_(-0.5)\n",
    "    return BCE + KLD\n",
    "\n",
    "optimizer = optim.Adam(model.parameters(), lr=1e-3)"
   ]
  },
  {
   "cell_type": "code",
   "execution_count": 5,
   "metadata": {
    "collapsed": false
   },
   "outputs": [
    {
     "data": {
      "text/plain": [
       "<matplotlib.image.AxesImage at 0x1109c2668>"
      ]
     },
     "execution_count": 5,
     "metadata": {},
     "output_type": "execute_result"
    },
    {
     "data": {
      "image/png": "[encoded data removed]",
      "text/plain": [
       "<matplotlib.figure.Figure at 0x10fec0080>"
      ]
     },
     "metadata": {},
     "output_type": "display_data"
    }
   ],
   "source": [
    "#Test Image\n",
    "\n",
    "dataiter = iter(train_loader)\n",
    "images, labels = dataiter.next()\n",
    "test_image = images[1][0]\n",
    "np_test_image = test_image.numpy()\n",
    "plt.imshow(np_test_image, cmap = 'gray')"
   ]
  },
  {
   "cell_type": "code",
   "execution_count": 6,
   "metadata": {
    "collapsed": false
   },
   "outputs": [
    {
     "data": {
      "text/plain": [
       "<matplotlib.image.AxesImage at 0x110bdd5f8>"
      ]
     },
     "execution_count": 6,
     "metadata": {},
     "output_type": "execute_result"
    },
    {
     "data": {
      "image/png": "[encoded data removed]",
      "text/plain": [
       "<matplotlib.figure.Figure at 0x1156ea080>"
      ]
     },
     "metadata": {},
     "output_type": "display_data"
    }
   ],
   "source": [
    "#Ask the model before traning to reconstrcut the \"test image\"\n",
    "\n",
    "output = model(Variable(test_image))\n",
    "reconstrcuted_image = output[0].data.view(28,28).numpy()\n",
    "plt.imshow(reconstrcuted_image, cmap = 'gray')"
   ]
  },
  {
   "cell_type": "code",
   "execution_count": 7,
   "metadata": {
    "collapsed": false
   },
   "outputs": [],
   "source": [
    "def train(epoch):\n",
    "    model.train()\n",
    "    train_loss = 0\n",
    "    for batch_idx, (data, _) in enumerate(train_loader):\n",
    "        data = Variable(data)\n",
    "        optimizer.zero_grad()\n",
    "        recon_batch, mu, logvar = model(data)\n",
    "        loss = loss_function(recon_batch, data, mu, logvar)\n",
    "        loss.backward()\n",
    "        train_loss += loss.data[0]\n",
    "        optimizer.step()\n",
    "        if batch_idx % 20 == 0:\n",
    "            \n",
    "            print('Train Epoch: {} [{}/{} ({:.0f}%)]\\tLoss: {:.6f}'.format(\n",
    "                epoch, batch_idx * len(data), len(train_loader.dataset),\n",
    "                100. * batch_idx / len(train_loader),\n",
    "                loss.data[0] / len(data)))\n",
    "\n",
    "    print('====> Epoch: {} Average loss: {:.4f}'.format(epoch, train_loss / len(train_loader.dataset)))\n",
    "    \n",
    "    # Ask the model after training to reconstrcut the \"test image\"\n",
    "    \n",
    "    output = model(Variable(test_image)) \n",
    "    reconstrcuted_image = output[0].data.view(28,28).numpy()\n",
    "    plt.imshow(reconstrcuted_image, cmap = 'gray')  "
   ]
  },
  {
   "cell_type": "code",
   "execution_count": 8,
   "metadata": {
    "collapsed": true
   },
   "outputs": [],
   "source": [
    "def test(epoch):\n",
    "    model.eval()\n",
    "    test_loss = 0\n",
    "    for data, _ in valid_loader:\n",
    "        data = Variable(data, volatile=True)\n",
    "        recon_batch, mu, logvar = model(data)\n",
    "        test_loss += loss_function(recon_batch, data, mu, logvar).data[0] \n",
    "\n",
    "    test_loss /= len(valid_loader.dataset)\n",
    "    print('====> Test set loss: {:.4f}'.format(test_loss))"
   ]
  },
  {
   "cell_type": "code",
   "execution_count": 9,
   "metadata": {
    "collapsed": false
   },
   "outputs": [
    {
     "name": "stdout",
     "output_type": "stream",
     "text": [
      "Train Epoch: 1 [0/47000 (0%)]\tLoss: 550.859436\n",
      "Train Epoch: 1 [1280/47000 (3%)]\tLoss: -3944.977051\n",
      "Train Epoch: 1 [2560/47000 (5%)]\tLoss: -4929.130859\n",
      "Train Epoch: 1 [3840/47000 (8%)]\tLoss: -5064.358887\n",
      "Train Epoch: 1 [5120/47000 (11%)]\tLoss: -5892.219238\n",
      "Train Epoch: 1 [6400/47000 (14%)]\tLoss: -6241.758301\n",
      "Train Epoch: 1 [7680/47000 (16%)]\tLoss: -6994.364746\n",
      "Train Epoch: 1 [8960/47000 (19%)]\tLoss: -7292.389160\n",
      "Train Epoch: 1 [10240/47000 (22%)]\tLoss: -7662.237793\n",
      "Train Epoch: 1 [11520/47000 (24%)]\tLoss: -7747.131348\n",
      "Train Epoch: 1 [12800/47000 (27%)]\tLoss: -8094.465820\n",
      "Train Epoch: 1 [14080/47000 (30%)]\tLoss: -8057.169922\n",
      "Train Epoch: 1 [15360/47000 (33%)]\tLoss: -7998.875000\n",
      "Train Epoch: 1 [16640/47000 (35%)]\tLoss: -8354.772461\n",
      "Train Epoch: 1 [17920/47000 (38%)]\tLoss: -8640.177734\n",
      "Train Epoch: 1 [19200/47000 (41%)]\tLoss: -8696.521484\n",
      "Train Epoch: 1 [20480/47000 (44%)]\tLoss: -8841.162109\n",
      "Train Epoch: 1 [21760/47000 (46%)]\tLoss: -8649.681641\n",
      "Train Epoch: 1 [23040/47000 (49%)]\tLoss: -8691.823242\n",
      "Train Epoch: 1 [24320/47000 (52%)]\tLoss: -8653.281250\n",
      "Train Epoch: 1 [25600/47000 (54%)]\tLoss: -9188.573242\n",
      "Train Epoch: 1 [26880/47000 (57%)]\tLoss: -9033.902344\n",
      "Train Epoch: 1 [28160/47000 (60%)]\tLoss: -8995.048828\n",
      "Train Epoch: 1 [29440/47000 (63%)]\tLoss: -9011.883789\n",
      "Train Epoch: 1 [30720/47000 (65%)]\tLoss: -9189.116211\n",
      "Train Epoch: 1 [32000/47000 (68%)]\tLoss: -9140.560547\n",
      "Train Epoch: 1 [33280/47000 (71%)]\tLoss: -9073.270508\n",
      "Train Epoch: 1 [34560/47000 (73%)]\tLoss: -8859.284180\n",
      "Train Epoch: 1 [35840/47000 (76%)]\tLoss: -9236.833984\n",
      "Train Epoch: 1 [37120/47000 (79%)]\tLoss: -9259.318359\n",
      "Train Epoch: 1 [38400/47000 (82%)]\tLoss: -9019.118164\n",
      "Train Epoch: 1 [39680/47000 (84%)]\tLoss: -9530.403320\n",
      "Train Epoch: 1 [40960/47000 (87%)]\tLoss: -8792.708984\n",
      "Train Epoch: 1 [42240/47000 (90%)]\tLoss: -9330.953125\n",
      "Train Epoch: 1 [43520/47000 (93%)]\tLoss: -9549.520508\n",
      "Train Epoch: 1 [44800/47000 (95%)]\tLoss: -9253.333984\n",
      "Train Epoch: 1 [46080/47000 (98%)]\tLoss: -9248.830078\n",
      "====> Epoch: 1 Average loss: -8102.7984\n",
      "====> Test set loss: -9560.7604\n"
     ]
    },
    {
     "data": {
      "image/png": "[encoded data removed]",
      "text/plain": [
       "<matplotlib.figure.Figure at 0x111055eb8>"
      ]
     },
     "metadata": {},
     "output_type": "display_data"
    }
   ],
   "source": [
    "for epoch in range(1, 2):\n",
    "    train(epoch)\n",
    "    test(epoch)"
   ]
  },
  {
   "cell_type": "markdown",
   "metadata": {},
   "source": [
    "# The start of the semi_supervised model"
   ]
  },
  {
   "cell_type": "code",
   "execution_count": 16,
   "metadata": {
    "collapsed": true
   },
   "outputs": [],
   "source": [
    "trainset_labeled = pickle.load(open(\"train_labeled.p\", \"rb\")) \n",
    "train_loader  = torch.utils.data.DataLoader(trainset_labeled, batch_size=64, shuffle=True, num_workers=2)"
   ]
  },
  {
   "cell_type": "code",
   "execution_count": 68,
   "metadata": {
    "collapsed": true
   },
   "outputs": [],
   "source": [
    "for p in model.parameters():\n",
    "     p.requires_grad = False"
   ]
  },
  {
   "cell_type": "code",
   "execution_count": 69,
   "metadata": {
    "collapsed": true
   },
   "outputs": [],
   "source": [
    "class SemiSupervised(nn.Module):\n",
    "    def __init__(self):\n",
    "        super(SemiSupervised, self).__init__()\n",
    "\n",
    "        self.fc1 = nn.Linear(20, 15)\n",
    "        self.fc2 = nn.Linear(15, 10)\n",
    "        \n",
    "    def forward(self, x):\n",
    "        \n",
    "        mu, logvar = model.encode(x.view(-1, 784))\n",
    "        z = model.reparametrize(mu, logvar)\n",
    "        x = F.relu(self.fc1(z))\n",
    "        return F.sigmoid(F.relu(self.fc2(x)))\n",
    "            \n",
    "        "
   ]
  },
  {
   "cell_type": "code",
   "execution_count": 70,
   "metadata": {
    "collapsed": false
   },
   "outputs": [],
   "source": [
    "semi_model = SemiSupervised()\n",
    "optimizer = optim.Adam(semi_model.parameters(), lr=1e-3)\n",
    "loss_function = nn.CrossEntropyLoss()\n"
   ]
  },
  {
   "cell_type": "code",
   "execution_count": 71,
   "metadata": {
    "collapsed": true
   },
   "outputs": [],
   "source": [
    "def train(epoch):\n",
    "    model.train()\n",
    "    for batch_idx, (data, target) in enumerate(train_loader):\n",
    "\n",
    "        data = Variable(data)\n",
    "        target = Variable(target)\n",
    "        optimizer.zero_grad()\n",
    "        output = semi_model(data) \n",
    "        loss =  loss_function(output, target) \n",
    "        loss.backward() \n",
    "        optimizer.step()\n",
    "        \n",
    "        if batch_idx % 10 == 0:\n",
    "            print('Train Epoch: {} [{}/{} ({:.0f}%)]\\tLoss: {:.6f}'.format(\n",
    "                epoch, batch_idx * len(data), len(train_loader.dataset),\n",
    "                100. * batch_idx / len(train_loader), loss.data[0]))\n"
   ]
  },
  {
   "cell_type": "code",
   "execution_count": 72,
   "metadata": {
    "collapsed": true
   },
   "outputs": [],
   "source": [
    "def test(epoch, valid_loader):\n",
    "    model.eval()\n",
    "    test_loss = 0\n",
    "    correct = 0\n",
    "    for data, target in valid_loader:\n",
    "\n",
    "        data, target = Variable(data, volatile=True), Variable(target)\n",
    "        output = semi_model(data)\n",
    "        test_loss += loss_function(output, target).data[0]\n",
    "        pred = output.data.max(1)[1] # get the index of the max log-probability\n",
    "        correct += pred.eq(target.data).cpu().sum()\n",
    "\n",
    "    test_loss /= len(valid_loader) # loss function already averages over batch size\n",
    "    print('\\nTest set: Average loss: {:.4f}, Accuracy: {}/{} ({:.0f}%)\\n'.format(\n",
    "        test_loss, correct, len(valid_loader.dataset),\n",
    "        100. * correct / len(valid_loader.dataset)))"
   ]
  },
  {
   "cell_type": "code",
   "execution_count": 73,
   "metadata": {
    "collapsed": false
   },
   "outputs": [
    {
     "name": "stdout",
     "output_type": "stream",
     "text": [
      "Train Epoch: 1 [0/3000 (0%)]\tLoss: 2.276165\n",
      "Train Epoch: 1 [640/3000 (21%)]\tLoss: 2.277667\n",
      "Train Epoch: 1 [1280/3000 (43%)]\tLoss: 2.244603\n",
      "Train Epoch: 1 [1920/3000 (64%)]\tLoss: 2.240822\n",
      "Train Epoch: 1 [2560/3000 (85%)]\tLoss: 2.221900\n",
      "\n",
      "Test set: Average loss: 2.2089, Accuracy: 3640/10000 (36%)\n",
      "\n",
      "Train Epoch: 2 [0/3000 (0%)]\tLoss: 2.191455\n",
      "Train Epoch: 2 [640/3000 (21%)]\tLoss: 2.182140\n",
      "Train Epoch: 2 [1280/3000 (43%)]\tLoss: 2.165468\n",
      "Train Epoch: 2 [1920/3000 (64%)]\tLoss: 2.182326\n",
      "Train Epoch: 2 [2560/3000 (85%)]\tLoss: 2.102584\n",
      "\n",
      "Test set: Average loss: 2.1349, Accuracy: 5458/10000 (55%)\n",
      "\n",
      "Train Epoch: 3 [0/3000 (0%)]\tLoss: 2.115494\n",
      "Train Epoch: 3 [640/3000 (21%)]\tLoss: 2.118392\n",
      "Train Epoch: 3 [1280/3000 (43%)]\tLoss: 2.106713\n",
      "Train Epoch: 3 [1920/3000 (64%)]\tLoss: 2.113840\n",
      "Train Epoch: 3 [2560/3000 (85%)]\tLoss: 2.122356\n",
      "\n",
      "Test set: Average loss: 2.0780, Accuracy: 6532/10000 (65%)\n",
      "\n",
      "Train Epoch: 4 [0/3000 (0%)]\tLoss: 2.062775\n",
      "Train Epoch: 4 [640/3000 (21%)]\tLoss: 2.045774\n",
      "Train Epoch: 4 [1280/3000 (43%)]\tLoss: 2.064145\n",
      "Train Epoch: 4 [1920/3000 (64%)]\tLoss: 2.050590\n",
      "Train Epoch: 4 [2560/3000 (85%)]\tLoss: 2.028256\n",
      "\n",
      "Test set: Average loss: 2.0430, Accuracy: 7063/10000 (71%)\n",
      "\n",
      "Train Epoch: 5 [0/3000 (0%)]\tLoss: 2.032298\n",
      "Train Epoch: 5 [640/3000 (21%)]\tLoss: 1.997715\n",
      "Train Epoch: 5 [1280/3000 (43%)]\tLoss: 2.026886\n",
      "Train Epoch: 5 [1920/3000 (64%)]\tLoss: 2.000128\n",
      "Train Epoch: 5 [2560/3000 (85%)]\tLoss: 2.029286\n",
      "\n",
      "Test set: Average loss: 2.0189, Accuracy: 7401/10000 (74%)\n",
      "\n",
      "Train Epoch: 6 [0/3000 (0%)]\tLoss: 2.002436\n",
      "Train Epoch: 6 [640/3000 (21%)]\tLoss: 2.043744\n",
      "Train Epoch: 6 [1280/3000 (43%)]\tLoss: 2.019272\n",
      "Train Epoch: 6 [1920/3000 (64%)]\tLoss: 1.995625\n",
      "Train Epoch: 6 [2560/3000 (85%)]\tLoss: 1.988199\n",
      "\n",
      "Test set: Average loss: 2.0002, Accuracy: 7658/10000 (77%)\n",
      "\n",
      "Train Epoch: 7 [0/3000 (0%)]\tLoss: 1.971627\n",
      "Train Epoch: 7 [640/3000 (21%)]\tLoss: 1.974325\n",
      "Train Epoch: 7 [1280/3000 (43%)]\tLoss: 1.956813\n",
      "Train Epoch: 7 [1920/3000 (64%)]\tLoss: 1.990855\n",
      "Train Epoch: 7 [2560/3000 (85%)]\tLoss: 1.982607\n",
      "\n",
      "Test set: Average loss: 1.9875, Accuracy: 7828/10000 (78%)\n",
      "\n",
      "Train Epoch: 8 [0/3000 (0%)]\tLoss: 2.000039\n",
      "Train Epoch: 8 [640/3000 (21%)]\tLoss: 1.961200\n",
      "Train Epoch: 8 [1280/3000 (43%)]\tLoss: 1.976224\n",
      "Train Epoch: 8 [1920/3000 (64%)]\tLoss: 1.974601\n",
      "Train Epoch: 8 [2560/3000 (85%)]\tLoss: 2.009989\n",
      "\n",
      "Test set: Average loss: 1.9795, Accuracy: 7958/10000 (80%)\n",
      "\n",
      "Train Epoch: 9 [0/3000 (0%)]\tLoss: 1.961898\n",
      "Train Epoch: 9 [640/3000 (21%)]\tLoss: 1.980259\n",
      "Train Epoch: 9 [1280/3000 (43%)]\tLoss: 1.958768\n",
      "Train Epoch: 9 [1920/3000 (64%)]\tLoss: 1.947696\n",
      "Train Epoch: 9 [2560/3000 (85%)]\tLoss: 1.944906\n",
      "\n",
      "Test set: Average loss: 1.9733, Accuracy: 8059/10000 (81%)\n",
      "\n",
      "Train Epoch: 10 [0/3000 (0%)]\tLoss: 1.992164\n",
      "Train Epoch: 10 [640/3000 (21%)]\tLoss: 1.957621\n",
      "Train Epoch: 10 [1280/3000 (43%)]\tLoss: 1.959331\n",
      "Train Epoch: 10 [1920/3000 (64%)]\tLoss: 1.980273\n",
      "Train Epoch: 10 [2560/3000 (85%)]\tLoss: 1.972715\n",
      "\n",
      "Test set: Average loss: 1.9687, Accuracy: 8086/10000 (81%)\n",
      "\n",
      "Train Epoch: 11 [0/3000 (0%)]\tLoss: 1.962528\n",
      "Train Epoch: 11 [640/3000 (21%)]\tLoss: 1.956538\n",
      "Train Epoch: 11 [1280/3000 (43%)]\tLoss: 1.985222\n",
      "Train Epoch: 11 [1920/3000 (64%)]\tLoss: 1.987276\n",
      "Train Epoch: 11 [2560/3000 (85%)]\tLoss: 1.923379\n",
      "\n",
      "Test set: Average loss: 1.9647, Accuracy: 8137/10000 (81%)\n",
      "\n",
      "Train Epoch: 12 [0/3000 (0%)]\tLoss: 1.947932\n",
      "Train Epoch: 12 [640/3000 (21%)]\tLoss: 1.967495\n",
      "Train Epoch: 12 [1280/3000 (43%)]\tLoss: 1.953436\n",
      "Train Epoch: 12 [1920/3000 (64%)]\tLoss: 1.959425\n",
      "Train Epoch: 12 [2560/3000 (85%)]\tLoss: 1.946830\n",
      "\n",
      "Test set: Average loss: 1.9617, Accuracy: 8185/10000 (82%)\n",
      "\n",
      "Train Epoch: 13 [0/3000 (0%)]\tLoss: 1.931133\n",
      "Train Epoch: 13 [640/3000 (21%)]\tLoss: 1.976685\n",
      "Train Epoch: 13 [1280/3000 (43%)]\tLoss: 1.943988\n",
      "Train Epoch: 13 [1920/3000 (64%)]\tLoss: 1.937417\n",
      "Train Epoch: 13 [2560/3000 (85%)]\tLoss: 1.956124\n",
      "\n",
      "Test set: Average loss: 1.9591, Accuracy: 8162/10000 (82%)\n",
      "\n",
      "Train Epoch: 14 [0/3000 (0%)]\tLoss: 1.949978\n",
      "Train Epoch: 14 [640/3000 (21%)]\tLoss: 1.959773\n",
      "Train Epoch: 14 [1280/3000 (43%)]\tLoss: 1.952478\n",
      "Train Epoch: 14 [1920/3000 (64%)]\tLoss: 1.918345\n",
      "Train Epoch: 14 [2560/3000 (85%)]\tLoss: 1.960525\n",
      "\n",
      "Test set: Average loss: 1.9565, Accuracy: 8223/10000 (82%)\n",
      "\n",
      "Train Epoch: 15 [0/3000 (0%)]\tLoss: 1.932348\n",
      "Train Epoch: 15 [640/3000 (21%)]\tLoss: 1.938762\n",
      "Train Epoch: 15 [1280/3000 (43%)]\tLoss: 1.950839\n",
      "Train Epoch: 15 [1920/3000 (64%)]\tLoss: 1.964407\n",
      "Train Epoch: 15 [2560/3000 (85%)]\tLoss: 1.916453\n",
      "\n",
      "Test set: Average loss: 1.9549, Accuracy: 8238/10000 (82%)\n",
      "\n",
      "Train Epoch: 16 [0/3000 (0%)]\tLoss: 1.949013\n",
      "Train Epoch: 16 [640/3000 (21%)]\tLoss: 1.948815\n",
      "Train Epoch: 16 [1280/3000 (43%)]\tLoss: 1.928083\n",
      "Train Epoch: 16 [1920/3000 (64%)]\tLoss: 1.934760\n",
      "Train Epoch: 16 [2560/3000 (85%)]\tLoss: 1.931356\n",
      "\n",
      "Test set: Average loss: 1.9528, Accuracy: 8240/10000 (82%)\n",
      "\n",
      "Train Epoch: 17 [0/3000 (0%)]\tLoss: 1.951289\n",
      "Train Epoch: 17 [640/3000 (21%)]\tLoss: 1.941229\n",
      "Train Epoch: 17 [1280/3000 (43%)]\tLoss: 1.942083\n",
      "Train Epoch: 17 [1920/3000 (64%)]\tLoss: 1.940412\n",
      "Train Epoch: 17 [2560/3000 (85%)]\tLoss: 1.935596\n",
      "\n",
      "Test set: Average loss: 1.9516, Accuracy: 8244/10000 (82%)\n",
      "\n",
      "Train Epoch: 18 [0/3000 (0%)]\tLoss: 1.942435\n",
      "Train Epoch: 18 [640/3000 (21%)]\tLoss: 1.956148\n",
      "Train Epoch: 18 [1280/3000 (43%)]\tLoss: 1.955184\n",
      "Train Epoch: 18 [1920/3000 (64%)]\tLoss: 1.944104\n",
      "Train Epoch: 18 [2560/3000 (85%)]\tLoss: 1.927996\n",
      "\n",
      "Test set: Average loss: 1.9501, Accuracy: 8288/10000 (83%)\n",
      "\n",
      "Train Epoch: 19 [0/3000 (0%)]\tLoss: 1.948945\n",
      "Train Epoch: 19 [640/3000 (21%)]\tLoss: 1.934486\n",
      "Train Epoch: 19 [1280/3000 (43%)]\tLoss: 1.944947\n",
      "Train Epoch: 19 [1920/3000 (64%)]\tLoss: 1.959934\n",
      "Train Epoch: 19 [2560/3000 (85%)]\tLoss: 1.933561\n",
      "\n",
      "Test set: Average loss: 1.9491, Accuracy: 8272/10000 (83%)\n",
      "\n"
     ]
    }
   ],
   "source": [
    "for epoch in range(1, 20):\n",
    "    train(epoch)\n",
    "    test(epoch, valid_loader)"
   ]
  },
  {
   "cell_type": "code",
   "execution_count": null,
   "metadata": {
    "collapsed": true
   },
   "outputs": [],
   "source": []
  },
  {
   "cell_type": "code",
   "execution_count": null,
   "metadata": {
    "collapsed": true
   },
   "outputs": [],
   "source": []
  }
 ],
 "metadata": {
  "anaconda-cloud": {},
  "kernelspec": {
   "display_name": "Python [default]",
   "language": "python",
   "name": "python3"
  },
  "language_info": {
   "codemirror_mode": {
    "name": "ipython",
    "version": 3
   },
   "file_extension": ".py",
   "mimetype": "text/x-python",
   "name": "python",
   "nbconvert_exporter": "python",
   "pygments_lexer": "ipython3",
   "version": "3.5.2"
  }
 },
 "nbformat": 4,
 "nbformat_minor": 1
}
