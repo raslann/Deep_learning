{
 "cells": [
  {
   "cell_type": "code",
   "execution_count": 17,
   "metadata": {
    "collapsed": false
   },
   "outputs": [],
   "source": [
    "from __future__ import print_function\n",
    "import pickle \n",
    "import numpy as np\n",
    "import argparse\n",
    "import torch\n",
    "import torch.nn as nn\n",
    "import torch.nn.functional as F\n",
    "import torch.optim as optim\n",
    "from torchvision import datasets, transforms\n",
    "from torch.autograd import Variable\n",
    "from sub import subMNIST"
   ]
  },
  {
   "cell_type": "code",
   "execution_count": 18,
   "metadata": {
    "collapsed": false,
    "scrolled": true
   },
   "outputs": [],
   "source": [
    "trainset_labeled = pickle.load(open(\"train_labeled.p\", \"rb\")) \n",
    "train_loader  = torch.utils.data.DataLoader(trainset_labeled, batch_size=64, shuffle=True, num_workers=2)\n",
    "\n",
    "validset = pickle.load(open(\"validation.p\", \"rb\"))\n",
    "valid_loader = torch.utils.data.DataLoader(validset, batch_size=64, shuffle=True, num_workers=2)"
   ]
  },
  {
   "cell_type": "code",
   "execution_count": 19,
   "metadata": {
    "collapsed": false
   },
   "outputs": [],
   "source": [
    "#utility functions\n",
    "def rand(x, level = 1e-3):\n",
    "    return x + torch.randn(x.size()) * level\n",
    "\n",
    "def norm_weights_2d(size):\n",
    "    return BatchNorm2d(nn.Linear(size))\n",
    "def norm_weights_1d(size):\n",
    "    return BatchNorm2d(nn.Linear(size))\n",
    "\n",
    "def reluN(x, level = 1e-3):\n",
    "    y = x + torch.randn(x.size()) * level"
   ]
  },
  {
   "cell_type": "code",
   "execution_count": 20,
   "metadata": {
    "collapsed": false,
    "scrolled": false
   },
   "outputs": [],
   "source": [
    "class Net(nn.Module):\n",
    "    def __init__(self):\n",
    "        super(Net, self).__init__()\n",
    "        self.layers = [1000, 600, 200, 10]\n",
    "        self.enc1 = nn.Linear(28*28, self.layers[0])\n",
    "        self.lat1 = nn.Linear(self.layers[0],self.layers[0])\n",
    "        self.BatchNorm1 = torch.nn.BatchNorm1d(self.layers[0])\n",
    "        \n",
    "        self.enc2 = nn.Linear(self.layers[0],self.layers[1])\n",
    "        self.lat2 = nn.Linear(self.layers[1],self.layers[1])\n",
    "        self.dec21 = nn.Linear(self.layers[1], self.layers[0])\n",
    "        self.BatchNorm2 = torch.nn.BatchNorm1d(self.layers[1])\n",
    "        self.DecNorm2 = torch.nn.BatchNorm1d(self.layers[0])\n",
    "        \n",
    "        self.enc3 = nn.Linear(self.layers[1], self.layers[2])\n",
    "        self.lat3 = nn.Linear(self.layers[2],self.layers[2])\n",
    "        self.dec32 = nn.Linear(self.layers[2], self.layers[1])\n",
    "        self.BatchNorm3 = torch.nn.BatchNorm1d(self.layers[2])\n",
    "        self.DecNorm3 = torch.nn.BatchNorm1d(self.layers[1])\n",
    "        \n",
    "        self.enc4 = nn.Linear(self.layers[2], self.layers[3])\n",
    "        self.dec43 = nn.Linear(self.layers[3], self.layers[2])\n",
    "        self.BatchNorm4 = torch.nn.BatchNorm1d(self.layers[3])\n",
    "        self.DecNorm4 = torch.nn.BatchNorm1d(self.layers[2])\n",
    "        \n",
    "        self.batch_size = 64\n",
    "        \n",
    "        \n",
    "\n",
    "    def forward(self, x, v = 0, noise=1e-3):\n",
    "        self.eps = noise\n",
    "        self.batch_size = x.size()[0]\n",
    "        #enc= F.relu(self.enc4(F.relu(self.enc3(F.relu(self.enc2(F.relu(self.enc1(x))))))))\n",
    "        \n",
    "        enc1 = self.BatchNorm1(self.enc1(x))\n",
    "        enc1out = F.relu(enc1 + self.BatchNorm1.weight.unsqueeze(0).expand(self.batch_size, self.layers[0]) *\n",
    "                     torch.autograd.Variable(torch.randn(enc1.size()) * self.eps) + \\\n",
    "                     self.BatchNorm1.bias.unsqueeze(0).expand(self.batch_size, self.layers[0]))\n",
    "        enc2 = self.BatchNorm2(self.enc2(enc1out))\n",
    "        enc2out = F.relu(enc2 + self.BatchNorm2.weight.unsqueeze(0).expand(self.batch_size, self.layers[1]) *\n",
    "                     torch.autograd.Variable(torch.randn(enc2.size()) * self.eps) + \\\n",
    "                     self.BatchNorm2.bias.unsqueeze(0).expand(self.batch_size, self.layers[1]))\n",
    "        enc3 = self.BatchNorm3(self.enc3(enc2out))\n",
    "        enc3out = F.relu(enc3 + self.BatchNorm3.weight.unsqueeze(0).expand(self.batch_size, self.layers[2]) *\n",
    "                     torch.autograd.Variable(torch.randn(enc3.size()) * self.eps) + \\\n",
    "                     self.BatchNorm3.bias.unsqueeze(0).expand(self.batch_size, self.layers[2]))\n",
    "        enc4 = self.BatchNorm4(self.enc4(enc3out))\n",
    "        enc4out = F.relu(enc4 + self.BatchNorm4.weight.unsqueeze(0).expand(self.batch_size, self.layers[3]) *\n",
    "                     torch.autograd.Variable(torch.randn(enc4.size()) * self.eps) + \\\n",
    "                     self.BatchNorm4.bias.unsqueeze(0).expand(self.batch_size, self.layers[3]))\n",
    "        \n",
    "        \n",
    "        GT1 = F.relu(self.BatchNorm1(self.enc1(x)))\n",
    "        GT2 = F.relu(self.BatchNorm2(self.enc2(GT1)))\n",
    "        GT3 = F.relu(self.BatchNorm3(self.enc3(GT2)))\n",
    "        GT4 = F.relu(self.BatchNorm4(self.enc4(GT3)))\n",
    "        \n",
    "        decin = F.softmax(enc4out)\n",
    "        \n",
    "        dec4 = self.dec43(decin)+self.lat3(enc3out)\n",
    "        dec4out = F.relu(dec4 + self.DecNorm4.weight.unsqueeze(0).expand(self.batch_size, self.layers[2]) *\n",
    "                     torch.autograd.Variable(torch.randn(dec4.size()) * self.eps) + \\\n",
    "                     self.DecNorm4.bias.unsqueeze(0).expand(self.batch_size, self.layers[2]))\n",
    "        \n",
    "        dec3 = self.dec32(dec4out)+self.lat2(enc2out)\n",
    "        dec3out = F.relu(dec3 + self.DecNorm3.weight.unsqueeze(0).expand(self.batch_size, self.layers[1]) *\n",
    "                     torch.autograd.Variable(torch.randn(dec3.size()) * self.eps) + \\\n",
    "                     self.DecNorm3.bias.unsqueeze(0).expand(self.batch_size, self.layers[1]))\n",
    "        \n",
    "        dec2 = self.dec21(dec3out)+self.lat1(enc1out)\n",
    "        dec2out = F.relu(dec2 + self.DecNorm2.weight.unsqueeze(0).expand(self.batch_size, self.layers[0]) *\n",
    "                     torch.autograd.Variable(torch.randn(dec2.size()) * self.eps) + \\\n",
    "                     self.DecNorm2.bias.unsqueeze(0).expand(self.batch_size, self.layers[0]))\n",
    "        \n",
    "        \n",
    "        \n",
    "        \n",
    "        return F.log_softmax(enc4out), 1*((GT3 - dec4)**2).mean() +1*((GT2 - dec3)**2).mean() + \\\n",
    "                1*((GT1 - dec2)**2).mean()\n",
    "\n",
    "model = Net()\n",
    "params = list(model.parameters())\n",
    "\n",
    "if 0:\n",
    "    print(model)\n",
    "    print('Models has {} learnable paramater:'.format(len(params)))\n",
    "    [print('parameter {} has a size of {}'.format(i+1, params[i].size())) for i in range(len(params))]"
   ]
  },
  {
   "cell_type": "code",
   "execution_count": 21,
   "metadata": {
    "collapsed": false
   },
   "outputs": [],
   "source": [
    "optimizer = optim.SGD(model.parameters(), lr=0.01, momentum=0.9)"
   ]
  },
  {
   "cell_type": "code",
   "execution_count": 22,
   "metadata": {
    "collapsed": false
   },
   "outputs": [],
   "source": [
    "def train(epoch):\n",
    "    model.train()\n",
    "    for batch_idx, (data, target) in enumerate(train_loader):\n",
    "        data, target = Variable(data), Variable(target) # Wrap them in Variable \n",
    "        optimizer.zero_grad() # Zero the parameter gradients\n",
    "        data = data.view(data.size()[0], 28*28)\n",
    "        outputs = model(data,noise=1e-2) # Forward \n",
    "        output = outputs[0]\n",
    "        US = outputs[1]\n",
    "        loss = F.nll_loss(output, target) + US*.1\n",
    "        loss.backward() \n",
    "        optimizer.step()\n",
    "        if batch_idx % 10 == 0:\n",
    "            print('Train Epoch: {} [{}/{} ({:.0f}%)]\\tLoss: {:.6f}'.format(\n",
    "                epoch, batch_idx * len(data), len(train_loader.dataset),\n",
    "                100. * batch_idx / len(train_loader), loss.data[0]))"
   ]
  },
  {
   "cell_type": "code",
   "execution_count": null,
   "metadata": {
    "collapsed": true
   },
   "outputs": [],
   "source": [
    "def test(epoch, valid_loader):\n",
    "    model.eval()\n",
    "    test_loss = 0\n",
    "    correct = 0\n",
    "    for data, target in valid_loader:\n",
    "\n",
    "        data, target = Variable(data, volatile=True), Variable(target)\n",
    "        data = data.view(data.size()[0], 28*28)\n",
    "        outputs = model(data, noise = 0)\n",
    "        output = outputs[0]\n",
    "        test_loss += F.nll_loss(output, target).data[0]\n",
    "        pred = output.data.max(1)[1] # get the index of the max log-probability\n",
    "        correct += pred.eq(target.data).cpu().sum()\n",
    "\n",
    "    test_loss /= len(valid_loader) # loss function already averages over batch size\n",
    "    print('\\nTest set: Average loss: {:.4f}, Accuracy: {}/{} ({:.0f}%)\\n'.format(\n",
    "        test_loss, correct, len(valid_loader.dataset),\n",
    "        100. * correct / len(valid_loader.dataset)))"
   ]
  },
  {
   "cell_type": "code",
   "execution_count": null,
   "metadata": {
    "collapsed": false,
    "scrolled": false
   },
   "outputs": [
    {
     "name": "stdout",
     "output_type": "stream",
     "text": [
      "Train Epoch: 1 [0/3000 (0%)]\tLoss: 2.455602\n",
      "Train Epoch: 1 [640/3000 (21%)]\tLoss: 1.565565\n",
      "Train Epoch: 1 [1280/3000 (43%)]\tLoss: 1.503520\n",
      "Train Epoch: 1 [1920/3000 (64%)]\tLoss: 1.268301\n",
      "Train Epoch: 1 [2560/3000 (85%)]\tLoss: 0.851435\n",
      "\n",
      "Test set: Average loss: 0.7505, Accuracy: 9102/10000 (91%)\n",
      "\n",
      "Train Epoch: 2 [0/3000 (0%)]\tLoss: 0.825021\n",
      "Train Epoch: 2 [640/3000 (21%)]\tLoss: 0.712339\n",
      "Train Epoch: 2 [1280/3000 (43%)]\tLoss: 0.601990\n",
      "Train Epoch: 2 [1920/3000 (64%)]\tLoss: 0.544370\n",
      "Train Epoch: 2 [2560/3000 (85%)]\tLoss: 0.534697\n",
      "\n",
      "Test set: Average loss: 0.4174, Accuracy: 9284/10000 (93%)\n",
      "\n",
      "Train Epoch: 3 [0/3000 (0%)]\tLoss: 0.649939\n",
      "Train Epoch: 3 [640/3000 (21%)]\tLoss: 0.355197\n",
      "Train Epoch: 3 [1280/3000 (43%)]\tLoss: 0.304614\n",
      "Train Epoch: 3 [1920/3000 (64%)]\tLoss: 0.373534\n",
      "Train Epoch: 3 [2560/3000 (85%)]\tLoss: 0.322347\n",
      "\n",
      "Test set: Average loss: 0.3376, Accuracy: 9396/10000 (94%)\n",
      "\n",
      "Train Epoch: 4 [0/3000 (0%)]\tLoss: 0.248298\n",
      "Train Epoch: 4 [640/3000 (21%)]\tLoss: 0.201366\n",
      "Train Epoch: 4 [1280/3000 (43%)]\tLoss: 0.211471\n",
      "Train Epoch: 4 [1920/3000 (64%)]\tLoss: 0.192193\n",
      "Train Epoch: 4 [2560/3000 (85%)]\tLoss: 0.221675\n",
      "\n",
      "Test set: Average loss: 0.2848, Accuracy: 9426/10000 (94%)\n",
      "\n",
      "Train Epoch: 5 [0/3000 (0%)]\tLoss: 0.160722\n",
      "Train Epoch: 5 [640/3000 (21%)]\tLoss: 0.172165\n",
      "Train Epoch: 5 [1280/3000 (43%)]\tLoss: 0.163233\n",
      "Train Epoch: 5 [1920/3000 (64%)]\tLoss: 0.198168\n",
      "Train Epoch: 5 [2560/3000 (85%)]\tLoss: 0.191922\n",
      "\n",
      "Test set: Average loss: 0.2728, Accuracy: 9412/10000 (94%)\n",
      "\n",
      "Train Epoch: 6 [0/3000 (0%)]\tLoss: 0.157453\n",
      "Train Epoch: 6 [640/3000 (21%)]\tLoss: 0.137727\n",
      "Train Epoch: 6 [1280/3000 (43%)]\tLoss: 0.142949\n"
     ]
    }
   ],
   "source": [
    "for epoch in range(1, 30):\n",
    "    train(epoch)\n",
    "    test(epoch, valid_loader)"
   ]
  }
 ],
 "metadata": {
  "anaconda-cloud": {},
  "kernelspec": {
   "display_name": "Python [conda root]",
   "language": "python",
   "name": "conda-root-py"
  },
  "language_info": {
   "codemirror_mode": {
    "name": "ipython",
    "version": 3
   },
   "file_extension": ".py",
   "mimetype": "text/x-python",
   "name": "python",
   "nbconvert_exporter": "python",
   "pygments_lexer": "ipython3",
   "version": "3.5.2"
  }
 },
 "nbformat": 4,
 "nbformat_minor": 1
}
