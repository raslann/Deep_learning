{
 "cells": [
  {
   "cell_type": "code",
   "execution_count": 1,
   "metadata": {
    "collapsed": false
   },
   "outputs": [
    {
     "name": "stdout",
     "output_type": "stream",
     "text": [
      "Files already downloaded\n",
      "3000\n",
      "750\n"
     ]
    }
   ],
   "source": [
    "from __future__ import print_function\n",
    "import pickle \n",
    "import numpy as np\n",
    "import torch\n",
    "import torch.nn as nn\n",
    "import torch.nn.functional as F\n",
    "import torch.optim as optim\n",
    "from torchvision import datasets, transforms\n",
    "from torch.autograd import Variable\n",
    "from sub import subMNIST\n",
    "import matplotlib.pyplot as plt\n",
    "import numpy as np\n",
    "from collections import OrderedDict\n",
    "%matplotlib inline"
   ]
  },
  {
   "cell_type": "code",
   "execution_count": 2,
   "metadata": {
    "collapsed": false
   },
   "outputs": [],
   "source": [
    "#Set labels to zeros as a dummy values to make the train_loader work \n",
    "\n",
    "trainset_unlabeled = pickle.load(open(\"train_unlabeled.p\", \"rb\")) \n",
    "trainset_unlabeled.train_labels = torch.zeros(trainset_unlabeled.train_data.size(0))\n",
    "train_loader  = torch.utils.data.DataLoader(trainset_unlabeled, batch_size=64, shuffle=True, num_workers=2)\n",
    "\n",
    "validset = pickle.load(open(\"validation.p\", \"rb\"))\n",
    "valid_loader = torch.utils.data.DataLoader(validset, batch_size=64, shuffle=True, num_workers=2)"
   ]
  },
  {
   "cell_type": "code",
   "execution_count": 3,
   "metadata": {
    "collapsed": false
   },
   "outputs": [],
   "source": [
    "#Model Architecture\n",
    "\n",
    "encoder = nn.Sequential(OrderedDict([\n",
    "          ('conv1', nn.Conv2d(1, 16, kernel_size=3)), \n",
    "          ('relu1', nn.ReLU()),\n",
    "          \n",
    "          ('conv2', nn.Conv2d(16, 8, kernel_size=3)),\n",
    "          ('relu2', nn.ReLU()),\n",
    "          \n",
    "          ('conv3', nn.Conv2d(8, 8, kernel_size=3)),\n",
    "          ('relu3', nn.ReLU()),\n",
    "        ]))\n",
    "\n",
    "decoder = nn.Sequential(OrderedDict([\n",
    "          ('conv1', nn.ConvTranspose2d(8, 8, kernel_size=3)), \n",
    "          ('relu1', nn.ReLU()),\n",
    "          \n",
    "          ('conv2', nn.ConvTranspose2d(8, 16, kernel_size=3)),\n",
    "          ('relu2', nn.ReLU()),\n",
    "          \n",
    "          ('conv3', nn.ConvTranspose2d(16, 1, kernel_size=3)),\n",
    "          ('relu3', nn.ReLU()),\n",
    "          ('sigmoid4', nn.Sigmoid())\n",
    "            \n",
    "        ]))\n",
    "\n",
    "model =  nn.Sequential(OrderedDict([\n",
    "          ('encoder', encoder),\n",
    "          ('decoder', decoder),\n",
    "        ]))"
   ]
  },
  {
   "cell_type": "code",
   "execution_count": 4,
   "metadata": {
    "collapsed": false
   },
   "outputs": [],
   "source": [
    "# Measuring the error of a reconstruction with BCE Loss which is usually used for autoencoders \n",
    "# BCE Loss requires the \"targert\" and \"data\" to be an output btw 0 and 1\n",
    "# Therefore, we usually call sigmoid on the target before wrapping it into a Variable\n",
    "\n",
    "loss_function = nn.BCELoss() \n",
    "optimizer = optim.Adam(model.parameters(), lr=1e-3)"
   ]
  },
  {
   "cell_type": "code",
   "execution_count": 5,
   "metadata": {
    "collapsed": false
   },
   "outputs": [],
   "source": [
    "def train(epoch):\n",
    "    model.train()\n",
    "    for batch_idx, (data, _) in enumerate(train_loader):\n",
    "\n",
    "        target = Variable(F.sigmoid(data))\n",
    "        data = Variable(data)  \n",
    "        optimizer.zero_grad() \n",
    "        output = model(data) \n",
    "        loss = loss_function(output, target) \n",
    "        loss.backward() \n",
    "        optimizer.step()\n",
    "        if batch_idx % 40 == 0:\n",
    "            print('Train Epoch: {} [{}/{} ({:.0f}%)]\\tLoss: {:.6f}'.format(\n",
    "                epoch, batch_idx * len(data), len(train_loader.dataset),\n",
    "                100. * batch_idx / len(train_loader), loss.data[0])) "
   ]
  },
  {
   "cell_type": "code",
   "execution_count": 6,
   "metadata": {
    "collapsed": true
   },
   "outputs": [],
   "source": [
    "def test(epoch, valid_loader):\n",
    "    loss = 0\n",
    "    for data, _ in valid_loader:\n",
    "        target = Variable(F.sigmoid(data))\n",
    "        data = Variable(data, volatile=True)\n",
    "        output = model(data)\n",
    "        loss += loss_function(output, target)\n",
    "    print(loss) "
   ]
  },
  {
   "cell_type": "code",
   "execution_count": 7,
   "metadata": {
    "collapsed": false
   },
   "outputs": [
    {
     "name": "stdout",
     "output_type": "stream",
     "text": [
      "Train Epoch: 1 [0/47000 (0%)]\tLoss: 0.694329\n",
      "Train Epoch: 1 [2560/47000 (5%)]\tLoss: 0.642617\n",
      "Train Epoch: 1 [5120/47000 (11%)]\tLoss: 0.641042\n",
      "Train Epoch: 1 [7680/47000 (16%)]\tLoss: 0.639820\n",
      "Train Epoch: 1 [10240/47000 (22%)]\tLoss: 0.640832\n",
      "Train Epoch: 1 [12800/47000 (27%)]\tLoss: 0.641793\n",
      "Train Epoch: 1 [15360/47000 (33%)]\tLoss: 0.639884\n",
      "Train Epoch: 1 [17920/47000 (38%)]\tLoss: 0.633764\n",
      "Train Epoch: 1 [20480/47000 (44%)]\tLoss: 0.638952\n",
      "Train Epoch: 1 [23040/47000 (49%)]\tLoss: 0.639485\n",
      "Train Epoch: 1 [25600/47000 (54%)]\tLoss: 0.636046\n",
      "Train Epoch: 1 [28160/47000 (60%)]\tLoss: 0.636713\n",
      "Train Epoch: 1 [30720/47000 (65%)]\tLoss: 0.639681\n",
      "Train Epoch: 1 [33280/47000 (71%)]\tLoss: 0.638629\n",
      "Train Epoch: 1 [35840/47000 (76%)]\tLoss: 0.635301\n",
      "Train Epoch: 1 [38400/47000 (82%)]\tLoss: 0.638131\n",
      "Train Epoch: 1 [40960/47000 (87%)]\tLoss: 0.638629\n",
      "Train Epoch: 1 [43520/47000 (93%)]\tLoss: 0.639996\n",
      "Train Epoch: 1 [46080/47000 (98%)]\tLoss: 0.637344\n",
      "Variable containing:\n",
      " 99.8524\n",
      "[torch.FloatTensor of size 1]\n",
      "\n"
     ]
    }
   ],
   "source": [
    "for epoch in range(1, 2):\n",
    "    train(epoch)\n",
    "    test(epoch, valid_loader)"
   ]
  },
  {
   "cell_type": "code",
   "execution_count": 8,
   "metadata": {
    "collapsed": false
   },
   "outputs": [
    {
     "data": {
      "text/plain": [
       "<matplotlib.figure.Figure at 0x1107daa20>"
      ]
     },
     "execution_count": 8,
     "metadata": {},
     "output_type": "execute_result"
    },
    {
     "data": {
      "text/plain": [
       "<matplotlib.image.AxesImage at 0x11086f940>"
      ]
     },
     "execution_count": 8,
     "metadata": {},
     "output_type": "execute_result"
    },
    {
     "data": {
      "text/plain": [
       "<matplotlib.image.AxesImage at 0x110a05390>"
      ]
     },
     "execution_count": 8,
     "metadata": {},
     "output_type": "execute_result"
    },
    {
     "data": {
      "text/plain": [
       "<matplotlib.image.AxesImage at 0x1113a8c50>"
      ]
     },
     "execution_count": 8,
     "metadata": {},
     "output_type": "execute_result"
    },
    {
     "data": {
      "text/plain": [
       "<matplotlib.image.AxesImage at 0x110ac2780>"
      ]
     },
     "execution_count": 8,
     "metadata": {},
     "output_type": "execute_result"
    },
    {
     "data": {
      "text/plain": [
       "<matplotlib.image.AxesImage at 0x110b04e10>"
      ]
     },
     "execution_count": 8,
     "metadata": {},
     "output_type": "execute_result"
    },
    {
     "data": {
      "text/plain": [
       "<matplotlib.image.AxesImage at 0x110b58a20>"
      ]
     },
     "execution_count": 8,
     "metadata": {},
     "output_type": "execute_result"
    },
    {
     "data": {
      "text/plain": [
       "<matplotlib.image.AxesImage at 0x110c02e10>"
      ]
     },
     "execution_count": 8,
     "metadata": {},
     "output_type": "execute_result"
    },
    {
     "data": {
      "text/plain": [
       "<matplotlib.image.AxesImage at 0x110c56940>"
      ]
     },
     "execution_count": 8,
     "metadata": {},
     "output_type": "execute_result"
    },
    {
     "data": {
      "text/plain": [
       "<matplotlib.image.AxesImage at 0x110c99e10>"
      ]
     },
     "execution_count": 8,
     "metadata": {},
     "output_type": "execute_result"
    },
    {
     "data": {
      "text/plain": [
       "<matplotlib.image.AxesImage at 0x11100f940>"
      ]
     },
     "execution_count": 8,
     "metadata": {},
     "output_type": "execute_result"
    },
    {
     "data": {
      "image/png": "[encoded data removed]",
      "text/plain": [
       "<matplotlib.figure.Figure at 0x1107daa20>"
      ]
     },
     "metadata": {},
     "output_type": "display_data"
    }
   ],
   "source": [
    "# Encoder Test_drive: visualizing the latent space \n",
    "\n",
    "dataiter = iter(valid_loader) \n",
    "data, _ = dataiter.next()\n",
    "output = encoder(Variable(data))\n",
    "\n",
    "n = 10\n",
    "plt.figure(figsize=(20, 8))\n",
    "for i in range(n):\n",
    "    ax = plt.subplot(1, n, i+1)\n",
    "    plt.imshow(output.data[i].numpy().reshape(22, 22 * 8).T)\n",
    "    plt.gray()\n",
    "    ax.get_xaxis().set_visible(False)\n",
    "    ax.get_yaxis().set_visible(False)\n",
    "plt.show()"
   ]
  },
  {
   "cell_type": "code",
   "execution_count": 9,
   "metadata": {
    "collapsed": false
   },
   "outputs": [
    {
     "data": {
      "text/plain": [
       "<matplotlib.figure.Figure at 0x1107dab70>"
      ]
     },
     "execution_count": 9,
     "metadata": {},
     "output_type": "execute_result"
    },
    {
     "data": {
      "text/plain": [
       "<matplotlib.image.AxesImage at 0x106ba3cf8>"
      ]
     },
     "execution_count": 9,
     "metadata": {},
     "output_type": "execute_result"
    },
    {
     "data": {
      "text/plain": [
       "<matplotlib.image.AxesImage at 0x10bc7b2b0>"
      ]
     },
     "execution_count": 9,
     "metadata": {},
     "output_type": "execute_result"
    },
    {
     "data": {
      "text/plain": [
       "<matplotlib.image.AxesImage at 0x111345c18>"
      ]
     },
     "execution_count": 9,
     "metadata": {},
     "output_type": "execute_result"
    },
    {
     "data": {
      "text/plain": [
       "<matplotlib.image.AxesImage at 0x112eb2748>"
      ]
     },
     "execution_count": 9,
     "metadata": {},
     "output_type": "execute_result"
    },
    {
     "data": {
      "text/plain": [
       "<matplotlib.image.AxesImage at 0x112ef75c0>"
      ]
     },
     "execution_count": 9,
     "metadata": {},
     "output_type": "execute_result"
    },
    {
     "data": {
      "text/plain": [
       "<matplotlib.image.AxesImage at 0x1130745c0>"
      ]
     },
     "execution_count": 9,
     "metadata": {},
     "output_type": "execute_result"
    },
    {
     "data": {
      "text/plain": [
       "<matplotlib.image.AxesImage at 0x1130b4e10>"
      ]
     },
     "execution_count": 9,
     "metadata": {},
     "output_type": "execute_result"
    },
    {
     "data": {
      "text/plain": [
       "<matplotlib.image.AxesImage at 0x113107940>"
      ]
     },
     "execution_count": 9,
     "metadata": {},
     "output_type": "execute_result"
    },
    {
     "data": {
      "text/plain": [
       "<matplotlib.image.AxesImage at 0x11314bfd0>"
      ]
     },
     "execution_count": 9,
     "metadata": {},
     "output_type": "execute_result"
    },
    {
     "data": {
      "text/plain": [
       "<matplotlib.image.AxesImage at 0x11319eb00>"
      ]
     },
     "execution_count": 9,
     "metadata": {},
     "output_type": "execute_result"
    },
    {
     "data": {
      "image/png": "[encoded data removed]",
      "text/plain": [
       "<matplotlib.figure.Figure at 0x1107dab70>"
      ]
     },
     "metadata": {},
     "output_type": "display_data"
    }
   ],
   "source": [
    "# Model Test_Drive: Reconstructing/Generating images  \n",
    "\n",
    "dataiter = iter(valid_loader) \n",
    "data, _ = dataiter.next()\n",
    "output = model(Variable(data))\n",
    "\n",
    "n = 10\n",
    "plt.figure(figsize=(20, 2))\n",
    "for i in range(n):\n",
    "    ax = plt.subplot(1, n, i+1)\n",
    "    plt.imshow(output[i].data.view(28, 28).numpy())\n",
    "    plt.gray()\n",
    "    ax.get_xaxis().set_visible(False)\n",
    "    ax.get_yaxis().set_visible(False)\n",
    "plt.show()"
   ]
  },
  {
   "cell_type": "markdown",
   "metadata": {},
   "source": [
    "##                                 The start of the semi_supervised model"
   ]
  },
  {
   "cell_type": "code",
   "execution_count": 10,
   "metadata": {
    "collapsed": true
   },
   "outputs": [],
   "source": [
    "trainset_labeled = pickle.load(open(\"train_labeled.p\", \"rb\")) \n",
    "train_loader  = torch.utils.data.DataLoader(trainset_labeled, batch_size=64, shuffle=True, num_workers=2)"
   ]
  },
  {
   "cell_type": "code",
   "execution_count": 11,
   "metadata": {
    "collapsed": false
   },
   "outputs": [],
   "source": [
    "# Setting model's parameters\n",
    "for p in model.parameters():\n",
    "    p.requires_grad = False"
   ]
  },
  {
   "cell_type": "code",
   "execution_count": 12,
   "metadata": {
    "collapsed": true
   },
   "outputs": [],
   "source": [
    "# Conv Semi_supervised \n",
    "# Uncomment this if you want the conv semi_supervised \n",
    "\n",
    "\n",
    "# class SemiSupervised(nn.Module):\n",
    "#     def __init__(self):\n",
    "#         super(SemiSupervised, self).__init__()\n",
    "        \n",
    "#         self.conv1 = nn.Conv2d(8, 16, kernel_size=5)\n",
    "#         self.conv2 = nn.Conv2d(16, 20, kernel_size=5)\n",
    "#         self.conv2_drop = nn.Dropout2d()\n",
    "#         self.fc1   = nn.Linear(20*2*2, 40) \n",
    "#         self.fc2   = nn.Linear(40, 20)\n",
    "#         self.fc3   = nn.Linear(20, 10)\n",
    "        \n",
    "#     def forward(self, x):\n",
    "#         x = encoder(x)\n",
    "#         x = F.max_pool2d(F.relu(self.conv1(x)), (2, 2)) \n",
    "#         x = F.max_pool2d(F.relu(self.conv2(x)), 2) \n",
    "#         x = x.view(-1, 20*2*2)\n",
    "#         x = F.relu(self.fc1(x))\n",
    "#         x = F.relu(self.fc2(x))\n",
    "#         x = self.fc3(x)\n",
    "#         return F.log_softmax(x)\n",
    "\n",
    "# semi_model = SemiSupervised()"
   ]
  },
  {
   "cell_type": "code",
   "execution_count": 14,
   "metadata": {
    "collapsed": false
   },
   "outputs": [],
   "source": [
    "# Linear semi_supervised \n",
    "\n",
    "class SemiSupervised(nn.Module):\n",
    "    \n",
    "    def __init__(self):\n",
    "        super(SemiSupervised, self).__init__()\n",
    "        self.fc1   = nn.Linear(3872, 1000) \n",
    "        self.fc2   = nn.Linear(1000, 60)\n",
    "        self.fc3   = nn.Linear(60, 10)\n",
    "        \n",
    "    def forward(self, x):\n",
    "        \n",
    "        x = encoder(x)\n",
    "        x = x.view(-1, 3872)\n",
    "        x = F.relu(self.fc1(x))\n",
    "        x = F.relu(self.fc2(x))\n",
    "        x = self.fc3(x)\n",
    "        return F.log_softmax(x)\n",
    "\n",
    "semi_model = SemiSupervised()"
   ]
  },
  {
   "cell_type": "code",
   "execution_count": 15,
   "metadata": {
    "collapsed": false
   },
   "outputs": [],
   "source": [
    "optimizer = optim.Adam(semi_model.parameters(), lr=1e-3)\n",
    "loss_function = nn.CrossEntropyLoss()"
   ]
  },
  {
   "cell_type": "code",
   "execution_count": 16,
   "metadata": {
    "collapsed": true
   },
   "outputs": [],
   "source": [
    "def train(epoch):\n",
    "    model.train()\n",
    "    for batch_idx, (data, target) in enumerate(train_loader):\n",
    "\n",
    "        data = Variable(data)\n",
    "        target = Variable(target)\n",
    "        optimizer.zero_grad()\n",
    "        output = semi_model(data) \n",
    "        loss =  loss_function(output, target) \n",
    "        loss.backward() \n",
    "        optimizer.step()\n",
    "        \n",
    "        if batch_idx % 10 == 0:\n",
    "            print('Train Epoch: {} [{}/{} ({:.0f}%)]\\tLoss: {:.6f}'.format(\n",
    "                epoch, batch_idx * len(data), len(train_loader.dataset),\n",
    "                100. * batch_idx / len(train_loader), loss.data[0]))\n"
   ]
  },
  {
   "cell_type": "code",
   "execution_count": 17,
   "metadata": {
    "collapsed": true
   },
   "outputs": [],
   "source": [
    "def test(epoch, valid_loader):\n",
    "    model.eval()\n",
    "    test_loss = 0\n",
    "    correct = 0\n",
    "    for data, target in valid_loader:\n",
    "\n",
    "        data, target = Variable(data, volatile=True), Variable(target)\n",
    "        output = semi_model(data)\n",
    "        test_loss += loss_function(output, target).data[0]\n",
    "        pred = output.data.max(1)[1] \n",
    "        correct += pred.eq(target.data).cpu().sum()\n",
    "\n",
    "    test_loss /= len(valid_loader) \n",
    "    print('\\nTest set: Average loss: {:.4f}, Accuracy: {}/{} ({:.0f}%)\\n'.format(\n",
    "        test_loss, correct, len(valid_loader.dataset),\n",
    "        100. * correct / len(valid_loader.dataset)))"
   ]
  },
  {
   "cell_type": "code",
   "execution_count": 18,
   "metadata": {
    "collapsed": false
   },
   "outputs": [
    {
     "name": "stdout",
     "output_type": "stream",
     "text": [
      "Train Epoch: 1 [0/3000 (0%)]\tLoss: 2.307818\n",
      "Train Epoch: 1 [640/3000 (21%)]\tLoss: 2.240829\n",
      "Train Epoch: 1 [1280/3000 (43%)]\tLoss: 2.085594\n",
      "Train Epoch: 1 [1920/3000 (64%)]\tLoss: 1.845409\n",
      "Train Epoch: 1 [2560/3000 (85%)]\tLoss: 1.768907\n",
      "\n",
      "Test set: Average loss: 1.4969, Accuracy: 4921/10000 (49%)\n",
      "\n",
      "Train Epoch: 2 [0/3000 (0%)]\tLoss: 1.473390\n",
      "Train Epoch: 2 [640/3000 (21%)]\tLoss: 1.378075\n",
      "Train Epoch: 2 [1280/3000 (43%)]\tLoss: 1.089066\n",
      "Train Epoch: 2 [1920/3000 (64%)]\tLoss: 0.973316\n",
      "Train Epoch: 2 [2560/3000 (85%)]\tLoss: 1.019352\n",
      "\n",
      "Test set: Average loss: 0.9879, Accuracy: 6914/10000 (69%)\n",
      "\n",
      "Train Epoch: 3 [0/3000 (0%)]\tLoss: 1.107687\n",
      "Train Epoch: 3 [640/3000 (21%)]\tLoss: 0.885968\n",
      "Train Epoch: 3 [1280/3000 (43%)]\tLoss: 0.895164\n",
      "Train Epoch: 3 [1920/3000 (64%)]\tLoss: 0.581930\n",
      "Train Epoch: 3 [2560/3000 (85%)]\tLoss: 0.709436\n",
      "\n",
      "Test set: Average loss: 0.7343, Accuracy: 7820/10000 (78%)\n",
      "\n",
      "Train Epoch: 4 [0/3000 (0%)]\tLoss: 0.550681\n",
      "Train Epoch: 4 [640/3000 (21%)]\tLoss: 0.676181\n",
      "Train Epoch: 4 [1280/3000 (43%)]\tLoss: 0.689805\n",
      "Train Epoch: 4 [1920/3000 (64%)]\tLoss: 0.655481\n",
      "Train Epoch: 4 [2560/3000 (85%)]\tLoss: 0.759302\n",
      "\n",
      "Test set: Average loss: 0.6669, Accuracy: 8025/10000 (80%)\n",
      "\n",
      "Train Epoch: 5 [0/3000 (0%)]\tLoss: 0.533671\n",
      "Train Epoch: 5 [640/3000 (21%)]\tLoss: 0.576142\n",
      "Train Epoch: 5 [1280/3000 (43%)]\tLoss: 0.490960\n",
      "Train Epoch: 5 [1920/3000 (64%)]\tLoss: 0.461901\n",
      "Train Epoch: 5 [2560/3000 (85%)]\tLoss: 0.538107\n",
      "\n",
      "Test set: Average loss: 0.6136, Accuracy: 8188/10000 (82%)\n",
      "\n",
      "Train Epoch: 6 [0/3000 (0%)]\tLoss: 0.510984\n",
      "Train Epoch: 6 [640/3000 (21%)]\tLoss: 0.425968\n",
      "Train Epoch: 6 [1280/3000 (43%)]\tLoss: 0.379917\n",
      "Train Epoch: 6 [1920/3000 (64%)]\tLoss: 0.663234\n",
      "Train Epoch: 6 [2560/3000 (85%)]\tLoss: 0.271823\n",
      "\n",
      "Test set: Average loss: 0.5464, Accuracy: 8372/10000 (84%)\n",
      "\n",
      "Train Epoch: 7 [0/3000 (0%)]\tLoss: 0.353936\n",
      "Train Epoch: 7 [640/3000 (21%)]\tLoss: 0.496153\n",
      "Train Epoch: 7 [1280/3000 (43%)]\tLoss: 0.332169\n",
      "Train Epoch: 7 [1920/3000 (64%)]\tLoss: 0.491955\n",
      "Train Epoch: 7 [2560/3000 (85%)]\tLoss: 0.359025\n",
      "\n",
      "Test set: Average loss: 0.5233, Accuracy: 8532/10000 (85%)\n",
      "\n",
      "Train Epoch: 8 [0/3000 (0%)]\tLoss: 0.384558\n",
      "Train Epoch: 8 [640/3000 (21%)]\tLoss: 0.594223\n",
      "Train Epoch: 8 [1280/3000 (43%)]\tLoss: 0.575723\n",
      "Train Epoch: 8 [1920/3000 (64%)]\tLoss: 0.317270\n",
      "Train Epoch: 8 [2560/3000 (85%)]\tLoss: 0.434943\n",
      "\n",
      "Test set: Average loss: 0.4529, Accuracy: 8791/10000 (88%)\n",
      "\n",
      "Train Epoch: 9 [0/3000 (0%)]\tLoss: 0.231928\n",
      "Train Epoch: 9 [640/3000 (21%)]\tLoss: 0.296687\n",
      "Train Epoch: 9 [1280/3000 (43%)]\tLoss: 0.463312\n",
      "Train Epoch: 9 [1920/3000 (64%)]\tLoss: 0.191269\n",
      "Train Epoch: 9 [2560/3000 (85%)]\tLoss: 0.179222\n",
      "\n",
      "Test set: Average loss: 0.4757, Accuracy: 8713/10000 (87%)\n",
      "\n",
      "Train Epoch: 10 [0/3000 (0%)]\tLoss: 0.286364\n",
      "Train Epoch: 10 [640/3000 (21%)]\tLoss: 0.245866\n",
      "Train Epoch: 10 [1280/3000 (43%)]\tLoss: 0.184438\n",
      "Train Epoch: 10 [1920/3000 (64%)]\tLoss: 0.345993\n",
      "Train Epoch: 10 [2560/3000 (85%)]\tLoss: 0.155355\n",
      "\n",
      "Test set: Average loss: 0.4406, Accuracy: 8801/10000 (88%)\n",
      "\n",
      "Train Epoch: 11 [0/3000 (0%)]\tLoss: 0.157629\n",
      "Train Epoch: 11 [640/3000 (21%)]\tLoss: 0.270779\n",
      "Train Epoch: 11 [1280/3000 (43%)]\tLoss: 0.239669\n",
      "Train Epoch: 11 [1920/3000 (64%)]\tLoss: 0.351893\n",
      "Train Epoch: 11 [2560/3000 (85%)]\tLoss: 0.226528\n",
      "\n",
      "Test set: Average loss: 0.5318, Accuracy: 8518/10000 (85%)\n",
      "\n",
      "Train Epoch: 12 [0/3000 (0%)]\tLoss: 0.246522\n",
      "Train Epoch: 12 [640/3000 (21%)]\tLoss: 0.184879\n",
      "Train Epoch: 12 [1280/3000 (43%)]\tLoss: 0.237884\n",
      "Train Epoch: 12 [1920/3000 (64%)]\tLoss: 0.240197\n",
      "Train Epoch: 12 [2560/3000 (85%)]\tLoss: 0.196419\n",
      "\n",
      "Test set: Average loss: 0.4348, Accuracy: 8816/10000 (88%)\n",
      "\n",
      "Train Epoch: 13 [0/3000 (0%)]\tLoss: 0.168258\n",
      "Train Epoch: 13 [640/3000 (21%)]\tLoss: 0.245868\n",
      "Train Epoch: 13 [1280/3000 (43%)]\tLoss: 0.276660\n",
      "Train Epoch: 13 [1920/3000 (64%)]\tLoss: 0.203202\n",
      "Train Epoch: 13 [2560/3000 (85%)]\tLoss: 0.502160\n",
      "\n",
      "Test set: Average loss: 0.3741, Accuracy: 9048/10000 (90%)\n",
      "\n",
      "Train Epoch: 14 [0/3000 (0%)]\tLoss: 0.080400\n",
      "Train Epoch: 14 [640/3000 (21%)]\tLoss: 0.188395\n",
      "Train Epoch: 14 [1280/3000 (43%)]\tLoss: 0.327625\n",
      "Train Epoch: 14 [1920/3000 (64%)]\tLoss: 0.251400\n",
      "Train Epoch: 14 [2560/3000 (85%)]\tLoss: 0.307643\n",
      "\n",
      "Test set: Average loss: 0.4186, Accuracy: 8847/10000 (88%)\n",
      "\n",
      "Train Epoch: 15 [0/3000 (0%)]\tLoss: 0.243525\n",
      "Train Epoch: 15 [640/3000 (21%)]\tLoss: 0.226821\n",
      "Train Epoch: 15 [1280/3000 (43%)]\tLoss: 0.169233\n",
      "Train Epoch: 15 [1920/3000 (64%)]\tLoss: 0.259845\n",
      "Train Epoch: 15 [2560/3000 (85%)]\tLoss: 0.119811\n",
      "\n",
      "Test set: Average loss: 0.4226, Accuracy: 8888/10000 (89%)\n",
      "\n",
      "Train Epoch: 16 [0/3000 (0%)]\tLoss: 0.193935\n",
      "Train Epoch: 16 [640/3000 (21%)]\tLoss: 0.100712\n",
      "Train Epoch: 16 [1280/3000 (43%)]\tLoss: 0.261784\n",
      "Train Epoch: 16 [1920/3000 (64%)]\tLoss: 0.196445\n",
      "Train Epoch: 16 [2560/3000 (85%)]\tLoss: 0.177271\n",
      "\n",
      "Test set: Average loss: 0.4044, Accuracy: 8992/10000 (90%)\n",
      "\n",
      "Train Epoch: 17 [0/3000 (0%)]\tLoss: 0.163571\n",
      "Train Epoch: 17 [640/3000 (21%)]\tLoss: 0.077489\n",
      "Train Epoch: 17 [1280/3000 (43%)]\tLoss: 0.257446\n",
      "Train Epoch: 17 [1920/3000 (64%)]\tLoss: 0.125741\n",
      "Train Epoch: 17 [2560/3000 (85%)]\tLoss: 0.279587\n",
      "\n",
      "Test set: Average loss: 0.5185, Accuracy: 8491/10000 (85%)\n",
      "\n",
      "Train Epoch: 18 [0/3000 (0%)]\tLoss: 0.297419\n",
      "Train Epoch: 18 [640/3000 (21%)]\tLoss: 0.372934\n",
      "Train Epoch: 18 [1280/3000 (43%)]\tLoss: 0.208480\n",
      "Train Epoch: 18 [1920/3000 (64%)]\tLoss: 0.107175\n",
      "Train Epoch: 18 [2560/3000 (85%)]\tLoss: 0.141640\n",
      "\n",
      "Test set: Average loss: 0.3706, Accuracy: 9056/10000 (91%)\n",
      "\n",
      "Train Epoch: 19 [0/3000 (0%)]\tLoss: 0.185307\n",
      "Train Epoch: 19 [640/3000 (21%)]\tLoss: 0.168412\n",
      "Train Epoch: 19 [1280/3000 (43%)]\tLoss: 0.065935\n",
      "Train Epoch: 19 [1920/3000 (64%)]\tLoss: 0.146102\n",
      "Train Epoch: 19 [2560/3000 (85%)]\tLoss: 0.049244\n",
      "\n",
      "Test set: Average loss: 0.3492, Accuracy: 9151/10000 (92%)\n",
      "\n"
     ]
    }
   ],
   "source": [
    "for epoch in range(1, 20):\n",
    "    train(epoch)\n",
    "    test(epoch, valid_loader)"
   ]
  },
  {
   "cell_type": "code",
   "execution_count": null,
   "metadata": {
    "collapsed": true
   },
   "outputs": [],
   "source": []
  },
  {
   "cell_type": "code",
   "execution_count": null,
   "metadata": {
    "collapsed": true
   },
   "outputs": [],
   "source": []
  }
 ],
 "metadata": {
  "anaconda-cloud": {},
  "kernelspec": {
   "display_name": "Python [conda root]",
   "language": "python",
   "name": "conda-root-py"
  },
  "language_info": {
   "codemirror_mode": {
    "name": "ipython",
    "version": 3
   },
   "file_extension": ".py",
   "mimetype": "text/x-python",
   "name": "python",
   "nbconvert_exporter": "python",
   "pygments_lexer": "ipython3",
   "version": "3.5.2"
  }
 },
 "nbformat": 4,
 "nbformat_minor": 1
}
