{
 "cells": [
  {
   "cell_type": "code",
   "execution_count": 1,
   "metadata": {
    "collapsed": false
   },
   "outputs": [
    {
     "name": "stdout",
     "output_type": "stream",
     "text": [
      "Files already downloaded\n",
      "3000\n",
      "750\n"
     ]
    }
   ],
   "source": [
    "from __future__ import print_function\n",
    "import pickle \n",
    "import numpy as np\n",
    "import argparse\n",
    "import torch\n",
    "import torch.nn as nn\n",
    "import torch.nn.functional as F\n",
    "import torch.optim as optim\n",
    "from torchvision import datasets, transforms\n",
    "from torch.autograd import Variable\n",
    "from sub import subMNIST"
   ]
  },
  {
   "cell_type": "code",
   "execution_count": 2,
   "metadata": {
    "collapsed": false
   },
   "outputs": [],
   "source": [
    "trainset_labeled = pickle.load(open(\"train_labeled.p\", \"rb\")) \n",
    "train_loader  = torch.utils.data.DataLoader(trainset_labeled, batch_size=64, shuffle=True, num_workers=2)\n",
    "\n",
    "validset = pickle.load(open(\"validation.p\", \"rb\"))\n",
    "valid_loader = torch.utils.data.DataLoader(validset, batch_size=64, shuffle=True, num_workers=2)"
   ]
  },
  {
   "cell_type": "code",
   "execution_count": 3,
   "metadata": {
    "collapsed": false
   },
   "outputs": [
    {
     "name": "stdout",
     "output_type": "stream",
     "text": [
      "Net (\n",
      "  (conv1): Conv2d(1, 10, kernel_size=(5, 5), stride=(1, 1))\n",
      "  (conv2): Conv2d(10, 20, kernel_size=(5, 5), stride=(1, 1))\n",
      "  (conv2_drop): Dropout2d (p=0.5)\n",
      "  (fc1): Linear (320 -> 50)\n",
      "  (fc2): Linear (50 -> 10)\n",
      ")\n",
      "Models has 8 learnable paramater:\n",
      "parameter 1 has a size of torch.Size([10, 1, 5, 5])\n",
      "parameter 2 has a size of torch.Size([10])\n",
      "parameter 3 has a size of torch.Size([20, 10, 5, 5])\n",
      "parameter 4 has a size of torch.Size([20])\n",
      "parameter 5 has a size of torch.Size([50, 320])\n",
      "parameter 6 has a size of torch.Size([50])\n",
      "parameter 7 has a size of torch.Size([10, 50])\n",
      "parameter 8 has a size of torch.Size([10])\n"
     ]
    },
    {
     "data": {
      "text/plain": [
       "[None, None, None, None, None, None, None, None]"
      ]
     },
     "execution_count": 3,
     "metadata": {},
     "output_type": "execute_result"
    }
   ],
   "source": [
    "class Net(nn.Module):\n",
    "    def __init__(self):\n",
    "        super(Net, self).__init__()\n",
    "        self.conv1 = nn.Conv2d(1, 10, kernel_size=5)\n",
    "        self.conv2 = nn.Conv2d(10, 20, kernel_size=5)\n",
    "        self.conv2_drop = nn.Dropout2d()\n",
    "        self.fc1 = nn.Linear(320, 50)\n",
    "        self.fc2 = nn.Linear(50, 10)\n",
    "\n",
    "    def forward(self, x):\n",
    "        x = F.relu(F.max_pool2d(self.conv1(x), 2))\n",
    "        x = F.relu(F.max_pool2d(self.conv2_drop(self.conv2(x)), 2))\n",
    "        x = x.view(-1, 320)\n",
    "        x = F.relu(self.fc1(x))\n",
    "        x = F.dropout(x, training=self.training)\n",
    "        x = F.relu(self.fc2(x))\n",
    "        return F.log_softmax(x)\n",
    "\n",
    "model = Net()\n",
    "params = list(model.parameters())\n",
    "\n",
    "print(model)\n",
    "print('Models has {} learnable paramater:'.format(len(params)))\n",
    "[print('parameter {} has a size of {}'.format(i+1, params[i].size())) for i in range(len(params))]"
   ]
  },
  {
   "cell_type": "code",
   "execution_count": 4,
   "metadata": {
    "collapsed": false
   },
   "outputs": [],
   "source": [
    "optimizer = optim.SGD(model.parameters(), lr=0.001, momentum=0.9)"
   ]
  },
  {
   "cell_type": "code",
   "execution_count": 5,
   "metadata": {
    "collapsed": true
   },
   "outputs": [],
   "source": [
    "def train(epoch):\n",
    "    model.train()\n",
    "    for batch_idx, (data, target) in enumerate(train_loader):\n",
    "\n",
    "        data, target = Variable(data), Variable(target) # Wrap them in Variable \n",
    "        optimizer.zero_grad() # Zero the parameter gradients\n",
    "        output = model(data) # Forward \n",
    "        loss = F.nll_loss(output, target) \n",
    "        loss.backward() \n",
    "        optimizer.step()\n",
    "        if batch_idx % 10 == 0:\n",
    "            print('Train Epoch: {} [{}/{} ({:.0f}%)]\\tLoss: {:.6f}'.format(\n",
    "                epoch, batch_idx * len(data), len(train_loader.dataset),\n",
    "                100. * batch_idx / len(train_loader), loss.data[0]))"
   ]
  },
  {
   "cell_type": "code",
   "execution_count": 6,
   "metadata": {
    "collapsed": true
   },
   "outputs": [],
   "source": [
    "def test(epoch, valid_loader):\n",
    "    model.eval()\n",
    "    test_loss = 0\n",
    "    correct = 0\n",
    "    for data, target in valid_loader:\n",
    "\n",
    "        data, target = Variable(data, volatile=True), Variable(target)\n",
    "        output = model(data)\n",
    "        test_loss += F.nll_loss(output, target).data[0]\n",
    "        pred = output.data.max(1)[1] # get the index of the max log-probability\n",
    "        correct += pred.eq(target.data).cpu().sum()\n",
    "\n",
    "    test_loss /= len(valid_loader) # loss function already averages over batch size\n",
    "    print('\\nTest set: Average loss: {:.4f}, Accuracy: {}/{} ({:.0f}%)\\n'.format(\n",
    "        test_loss, correct, len(valid_loader.dataset),\n",
    "        100. * correct / len(valid_loader.dataset)))"
   ]
  },
  {
   "cell_type": "code",
   "execution_count": 8,
   "metadata": {
    "collapsed": false
   },
   "outputs": [
    {
     "name": "stdout",
     "output_type": "stream",
     "text": [
      "Train Epoch: 1 [0/3000 (0%)]\tLoss: 0.958099\n",
      "Train Epoch: 1 [640/3000 (21%)]\tLoss: 1.151651\n",
      "Train Epoch: 1 [1280/3000 (43%)]\tLoss: 1.037153\n",
      "Train Epoch: 1 [1920/3000 (64%)]\tLoss: 1.252772\n",
      "Train Epoch: 1 [2560/3000 (85%)]\tLoss: 0.965604\n",
      "\n",
      "Test set: Average loss: 0.6620, Accuracy: 8292/10000 (83%)\n",
      "\n",
      "Train Epoch: 2 [0/3000 (0%)]\tLoss: 0.899747\n",
      "Train Epoch: 2 [640/3000 (21%)]\tLoss: 0.936787\n",
      "Train Epoch: 2 [1280/3000 (43%)]\tLoss: 1.183522\n",
      "Train Epoch: 2 [1920/3000 (64%)]\tLoss: 1.074017\n",
      "Train Epoch: 2 [2560/3000 (85%)]\tLoss: 0.919468\n",
      "\n",
      "Test set: Average loss: 0.6097, Accuracy: 8419/10000 (84%)\n",
      "\n",
      "Train Epoch: 3 [0/3000 (0%)]\tLoss: 0.965402\n",
      "Train Epoch: 3 [640/3000 (21%)]\tLoss: 0.992506\n",
      "Train Epoch: 3 [1280/3000 (43%)]\tLoss: 0.878901\n",
      "Train Epoch: 3 [1920/3000 (64%)]\tLoss: 0.967720\n",
      "Train Epoch: 3 [2560/3000 (85%)]\tLoss: 0.782421\n",
      "\n",
      "Test set: Average loss: 0.5669, Accuracy: 8571/10000 (86%)\n",
      "\n",
      "Train Epoch: 4 [0/3000 (0%)]\tLoss: 0.834006\n",
      "Train Epoch: 4 [640/3000 (21%)]\tLoss: 0.881821\n",
      "Train Epoch: 4 [1280/3000 (43%)]\tLoss: 0.987676\n",
      "Train Epoch: 4 [1920/3000 (64%)]\tLoss: 0.874423\n",
      "Train Epoch: 4 [2560/3000 (85%)]\tLoss: 0.803743\n",
      "\n",
      "Test set: Average loss: 0.5044, Accuracy: 8641/10000 (86%)\n",
      "\n",
      "Train Epoch: 5 [0/3000 (0%)]\tLoss: 0.768835\n",
      "Train Epoch: 5 [640/3000 (21%)]\tLoss: 0.772798\n",
      "Train Epoch: 5 [1280/3000 (43%)]\tLoss: 0.768905\n",
      "Train Epoch: 5 [1920/3000 (64%)]\tLoss: 0.730084\n",
      "Train Epoch: 5 [2560/3000 (85%)]\tLoss: 0.678103\n",
      "\n",
      "Test set: Average loss: 0.4926, Accuracy: 8700/10000 (87%)\n",
      "\n",
      "Train Epoch: 6 [0/3000 (0%)]\tLoss: 0.923279\n",
      "Train Epoch: 6 [640/3000 (21%)]\tLoss: 1.076537\n",
      "Train Epoch: 6 [1280/3000 (43%)]\tLoss: 0.951570\n",
      "Train Epoch: 6 [1920/3000 (64%)]\tLoss: 0.644960\n",
      "Train Epoch: 6 [2560/3000 (85%)]\tLoss: 0.622610\n",
      "\n",
      "Test set: Average loss: 0.4628, Accuracy: 8755/10000 (88%)\n",
      "\n",
      "Train Epoch: 7 [0/3000 (0%)]\tLoss: 0.800615\n",
      "Train Epoch: 7 [640/3000 (21%)]\tLoss: 1.158878\n",
      "Train Epoch: 7 [1280/3000 (43%)]\tLoss: 0.606542\n",
      "Train Epoch: 7 [1920/3000 (64%)]\tLoss: 0.942662\n",
      "Train Epoch: 7 [2560/3000 (85%)]\tLoss: 0.580093\n",
      "\n",
      "Test set: Average loss: 0.4185, Accuracy: 8874/10000 (89%)\n",
      "\n",
      "Train Epoch: 8 [0/3000 (0%)]\tLoss: 0.634550\n",
      "Train Epoch: 8 [640/3000 (21%)]\tLoss: 0.741090\n",
      "Train Epoch: 8 [1280/3000 (43%)]\tLoss: 0.853216\n",
      "Train Epoch: 8 [1920/3000 (64%)]\tLoss: 0.803087\n",
      "Train Epoch: 8 [2560/3000 (85%)]\tLoss: 0.760587\n",
      "\n",
      "Test set: Average loss: 0.4219, Accuracy: 8849/10000 (88%)\n",
      "\n",
      "Train Epoch: 9 [0/3000 (0%)]\tLoss: 0.813192\n",
      "Train Epoch: 9 [640/3000 (21%)]\tLoss: 0.700179\n",
      "Train Epoch: 9 [1280/3000 (43%)]\tLoss: 0.437045\n",
      "Train Epoch: 9 [1920/3000 (64%)]\tLoss: 0.623561\n",
      "Train Epoch: 9 [2560/3000 (85%)]\tLoss: 0.572821\n",
      "\n",
      "Test set: Average loss: 0.3956, Accuracy: 8913/10000 (89%)\n",
      "\n",
      "Train Epoch: 10 [0/3000 (0%)]\tLoss: 0.801361\n",
      "Train Epoch: 10 [640/3000 (21%)]\tLoss: 0.508660\n",
      "Train Epoch: 10 [1280/3000 (43%)]\tLoss: 0.870872\n",
      "Train Epoch: 10 [1920/3000 (64%)]\tLoss: 0.963984\n",
      "Train Epoch: 10 [2560/3000 (85%)]\tLoss: 0.476651\n",
      "\n",
      "Test set: Average loss: 0.3831, Accuracy: 8933/10000 (89%)\n",
      "\n"
     ]
    }
   ],
   "source": [
    "for epoch in range(1, 11):\n",
    "    train(epoch)\n",
    "    test(epoch, valid_loader)"
   ]
  }
 ],
 "metadata": {
  "anaconda-cloud": {},
  "kernelspec": {
   "display_name": "Python [conda root]",
   "language": "python",
   "name": "conda-root-py"
  },
  "language_info": {
   "codemirror_mode": {
    "name": "ipython",
    "version": 3
   },
   "file_extension": ".py",
   "mimetype": "text/x-python",
   "name": "python",
   "nbconvert_exporter": "python",
   "pygments_lexer": "ipython3",
   "version": "3.5.2"
  }
 },
 "nbformat": 4,
 "nbformat_minor": 1
}
